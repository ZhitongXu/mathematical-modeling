{
 "cells": [
  {
   "cell_type": "code",
   "execution_count": null,
   "metadata": {},
   "outputs": [],
   "source": [
    "dat = pd.read_csv('pacifier.tsv', sep='\\t', header=0)\n",
    "dat['product_title'] = dat['product_title'].str.lower()\n",
    "dat = dat[(dat['product_title'].str.contains(\"pacifier\")) | (dat['product_title'].str.contains(\"nipple\")) | (dat['product_title'].str.contains(\"soother\"))]\n",
    "dat = dat[~dat['product_title'].str.contains(\"warmer\")]\n",
    "dat = dat.reset_index(drop=True)\n",
    "dat.to_csv(\"pacifier_cleaned.csv\", index=0)"
   ]
  },
  {
   "cell_type": "code",
   "execution_count": null,
   "metadata": {},
   "outputs": [],
   "source": [
    "dat = pd.read_csv('hair_dryer.tsv', sep='\\t', header=0)\n",
    "dat['product_title'] = dat['product_title'].str.lower()\n",
    "dat = dat[dat['product_title'].str.contains(\"hair dryer\")]\n",
    "dat = dat.reset_index(drop=True)\n",
    "dat.to_csv(\"hairdryer_cleaned.csv\", index=0)"
   ]
  },
  {
   "cell_type": "code",
   "execution_count": null,
   "metadata": {},
   "outputs": [],
   "source": [
    "dat = pd.read_csv('microwave.tsv', sep='\\t', header=0)\n",
    "dat['product_title'] = dat['product_title'].str.lower()\n",
    "dat = dat[dat['product_title'].str.contains(\"microwave\")]\n",
    "dat = dat.reset_index(drop=True)\n",
    "dat.to_csv(\"microwave_cleaned.csv\", index=0)"
   ]
  },
  {
   "cell_type": "code",
   "execution_count": null,
   "metadata": {},
   "outputs": [],
   "source": [
    "dat['text_length'] = dat['review_body'].str.len()\n",
    "dat['headline_length'] = dat['review_headline'].str.len()\n",
    "\n",
    "y_dic1 = {1:0, 2:0, 3:0, 4:1, 5:1}\n",
    "y_dic2 = {1:1, 2:1, 3:0, 4:0, 5:0}\n",
    "dat['ispos'] = dat['star_rating'].map(y_dic1)\n",
    "dat['isneg'] = dat['star_rating'].map(y_dic2)"
   ]
  }
 ],
 "metadata": {
  "kernelspec": {
   "display_name": "Python 3",
   "language": "python",
   "name": "python3"
  },
  "language_info": {
   "codemirror_mode": {
    "name": "ipython",
    "version": 3
   },
   "file_extension": ".py",
   "mimetype": "text/x-python",
   "name": "python",
   "nbconvert_exporter": "python",
   "pygments_lexer": "ipython3",
   "version": "3.7.4"
  }
 },
 "nbformat": 4,
 "nbformat_minor": 2
}
